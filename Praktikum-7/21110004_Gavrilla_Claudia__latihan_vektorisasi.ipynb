{
  "nbformat": 4,
  "nbformat_minor": 0,
  "metadata": {
    "colab": {
      "provenance": []
    },
    "kernelspec": {
      "name": "python3",
      "display_name": "Python 3"
    },
    "language_info": {
      "name": "python"
    }
  },
  "cells": [
    {
      "cell_type": "markdown",
      "source": [
        "#**Tugas Praktikum Natural Language Processing**\n",
        "\n",
        "#**Nama : Gavrilla Claudia**\n",
        "\n",
        "#**NIM : 21110004**\n",
        "\n",
        "#**Kelas : S1SD02A**"
      ],
      "metadata": {
        "id": "PO4e0aT8hqOe"
      }
    },
    {
      "cell_type": "markdown",
      "source": [
        "### Gensim Word2Vec"
      ],
      "metadata": {
        "id": "CRSyJsu8_AQX"
      }
    },
    {
      "cell_type": "code",
      "execution_count": 1,
      "metadata": {
        "id": "a04UwTgPhNof"
      },
      "outputs": [],
      "source": [
        "from gensim.models import Word2Vec\n",
        "from sklearn.manifold import TSNE\n",
        "import matplotlib.pyplot as plt\n",
        "import numpy as np"
      ]
    },
    {
      "cell_type": "code",
      "source": [
        "corpus = [[\"saya\", \"makan\", \"nasi\"],\n",
        "          [\"kamu\", \"minum\", \"air\"],\n",
        "          [\"mereka\", \"tidur\", \"nyenyak\"]]"
      ],
      "metadata": {
        "id": "gbG_l2Uqhg22"
      },
      "execution_count": 2,
      "outputs": []
    },
    {
      "cell_type": "code",
      "source": [
        "model_w2v = Word2Vec(sentences=corpus, vector_size=10, window=5, min_count=1, workers=4)"
      ],
      "metadata": {
        "id": "MPvYmHychPl9"
      },
      "execution_count": 3,
      "outputs": []
    },
    {
      "cell_type": "code",
      "source": [
        "model_w2v"
      ],
      "metadata": {
        "colab": {
          "base_uri": "https://localhost:8080/"
        },
        "id": "OVQFpKTBrvvT",
        "outputId": "1cf37033-193a-41a6-820e-f185cf6a1384"
      },
      "execution_count": 4,
      "outputs": [
        {
          "output_type": "execute_result",
          "data": {
            "text/plain": [
              "<gensim.models.word2vec.Word2Vec at 0x7a71fdabe9e0>"
            ]
          },
          "metadata": {},
          "execution_count": 4
        }
      ]
    },
    {
      "cell_type": "code",
      "source": [
        "words = list(model_w2v.wv.index_to_key)\n",
        "vector_W2V = [model_w2v.wv[word] for word in words]\n",
        "vector_W2V = np.array(vector_W2V)\n",
        "\n",
        "\"\"\"\n",
        "index_to_key buat menampilkan daftar kata yang ada pada sebuah model\n",
        "lakukan komperhensi untuk mengubah kata menjadi vektor dengan model_W2V\n",
        "ubah menjadi numpy array\n",
        "\"\"\""
      ],
      "metadata": {
        "id": "pNoh6h-6hQ4U",
        "colab": {
          "base_uri": "https://localhost:8080/",
          "height": 53
        },
        "outputId": "55064ae2-0948-408d-d81c-da865a0de2ac"
      },
      "execution_count": 5,
      "outputs": [
        {
          "output_type": "execute_result",
          "data": {
            "text/plain": [
              "'\\nindex_to_key buat menampilkan daftar kata yang ada pada sebuah model\\nlakukan komperhensi untuk mengubah kata menjadi vektor dengan model_W2V\\nubah menjadi numpy array\\n'"
            ],
            "application/vnd.google.colaboratory.intrinsic+json": {
              "type": "string"
            }
          },
          "metadata": {},
          "execution_count": 5
        }
      ]
    },
    {
      "cell_type": "code",
      "source": [
        "words"
      ],
      "metadata": {
        "colab": {
          "base_uri": "https://localhost:8080/"
        },
        "id": "YEeKVymendEq",
        "outputId": "ee403055-88ca-4c0e-f84d-9e8211b6ed5e"
      },
      "execution_count": 6,
      "outputs": [
        {
          "output_type": "execute_result",
          "data": {
            "text/plain": [
              "['nyenyak', 'tidur', 'mereka', 'air', 'minum', 'kamu', 'nasi', 'makan', 'saya']"
            ]
          },
          "metadata": {},
          "execution_count": 6
        }
      ]
    },
    {
      "cell_type": "code",
      "source": [
        "vector_W2V"
      ],
      "metadata": {
        "colab": {
          "base_uri": "https://localhost:8080/"
        },
        "id": "a2Zkc9xzisV3",
        "outputId": "fb74e070-aa7e-4cfe-be38-27bcd555cf96"
      },
      "execution_count": 8,
      "outputs": [
        {
          "output_type": "execute_result",
          "data": {
            "text/plain": [
              "array([[-0.00536227,  0.00236431,  0.0510335 ,  0.09009273, -0.0930295 ,\n",
              "        -0.07116809,  0.06458873,  0.08972988, -0.05015428, -0.03763372],\n",
              "       [ 0.07380505, -0.01533471, -0.04536613,  0.06554051, -0.0486016 ,\n",
              "        -0.01816018,  0.0287658 ,  0.00991874, -0.08285215, -0.09448818],\n",
              "       [ 0.07311766,  0.05070262,  0.06757693,  0.00762866,  0.06350891,\n",
              "        -0.03405366, -0.00946401,  0.05768573, -0.07521638, -0.03936104],\n",
              "       [-0.07511582, -0.00930042,  0.09538119, -0.07319167, -0.02333769,\n",
              "        -0.01937741,  0.08077437, -0.05930896,  0.00045162, -0.04753734],\n",
              "       [-0.0960355 ,  0.05007293, -0.08759586, -0.04391825, -0.000351  ,\n",
              "        -0.00296181, -0.0766124 ,  0.09614743,  0.04982058,  0.09233143],\n",
              "       [-0.08157917,  0.04495798, -0.04137076,  0.00824536,  0.08498619,\n",
              "        -0.04462177,  0.045175  , -0.0678696 , -0.03548489,  0.09398508],\n",
              "       [-0.01577653,  0.00321372, -0.0414063 , -0.07682689, -0.01508008,\n",
              "         0.02469795, -0.00888027,  0.05533662, -0.02742977,  0.02260065],\n",
              "       [ 0.05455794,  0.08345953, -0.01453741, -0.09208143,  0.04370552,\n",
              "         0.00571785,  0.07441908, -0.00813283, -0.02638414, -0.08753009],\n",
              "       [-0.00856557,  0.02826563,  0.05401429,  0.07052656, -0.05703121,\n",
              "         0.0185882 ,  0.06088864, -0.04798051, -0.03107261,  0.0679763 ]],\n",
              "      dtype=float32)"
            ]
          },
          "metadata": {},
          "execution_count": 8
        }
      ]
    },
    {
      "cell_type": "code",
      "source": [
        "tsne = TSNE(n_components=2, perplexity=min(5, len(vector_W2V)-1), random_state=42)\n",
        "vectors_tsne = tsne.fit_transform(vector_W2V)"
      ],
      "metadata": {
        "id": "ceHg73sfhR5M"
      },
      "execution_count": 9,
      "outputs": []
    },
    {
      "cell_type": "code",
      "source": [
        "plt.scatter(vectors_tsne[:, 0], vectors_tsne[:, 1])\n",
        "for i, word in enumerate(words):\n",
        "    plt.annotate(word, xy=(vectors_tsne[i, 0], vectors_tsne[i, 1]), xytext=(5, 2), textcoords='offset points', ha='right')\n",
        "\n",
        "plt.show()"
      ],
      "metadata": {
        "colab": {
          "base_uri": "https://localhost:8080/",
          "height": 430
        },
        "id": "1Tuyht3ehmHc",
        "outputId": "35b5b71b-fe21-4084-919a-1640dfe07f91"
      },
      "execution_count": 10,
      "outputs": [
        {
          "output_type": "display_data",
          "data": {
            "text/plain": [
              "<Figure size 640x480 with 1 Axes>"
            ],
            "image/png": "[encoded data removed]"
          },
          "metadata": {}
        }
      ]
    },
    {
      "cell_type": "markdown",
      "source": [
        "### Gensim Fasttext"
      ],
      "metadata": {
        "id": "Jvj4ZWYrh3A-"
      }
    },
    {
      "cell_type": "code",
      "source": [
        "from gensim.models import FastText\n",
        "\n",
        "model_fasttext = FastText(sentences=corpus, vector_size=10, window=5, min_count=1, workers=4)"
      ],
      "metadata": {
        "id": "KKAmzA9mhnhs"
      },
      "execution_count": 11,
      "outputs": []
    },
    {
      "cell_type": "code",
      "source": [
        "words = list(model_fasttext.wv.index_to_key)\n",
        "vector_fasttext = [model_fasttext.wv[word] for word in words]\n",
        "vector_fasttext = np.array(vector_fasttext)"
      ],
      "metadata": {
        "id": "ydjLTAygiFM4"
      },
      "execution_count": 12,
      "outputs": []
    },
    {
      "cell_type": "code",
      "source": [
        "words"
      ],
      "metadata": {
        "colab": {
          "base_uri": "https://localhost:8080/"
        },
        "id": "mzrJubPPtBXe",
        "outputId": "ae2bc2fe-2b03-482e-c57a-a2c2275c64a4"
      },
      "execution_count": 13,
      "outputs": [
        {
          "output_type": "execute_result",
          "data": {
            "text/plain": [
              "['nyenyak', 'tidur', 'mereka', 'air', 'minum', 'kamu', 'nasi', 'makan', 'saya']"
            ]
          },
          "metadata": {},
          "execution_count": 13
        }
      ]
    },
    {
      "cell_type": "code",
      "source": [
        "vector_fasttext"
      ],
      "metadata": {
        "colab": {
          "base_uri": "https://localhost:8080/"
        },
        "id": "G-ohM-SUiNY0",
        "outputId": "9c7ef1d6-9df0-48f0-9b97-a0757c508b83"
      },
      "execution_count": 14,
      "outputs": [
        {
          "output_type": "execute_result",
          "data": {
            "text/plain": [
              "array([[-0.01429317,  0.01492771,  0.00758504,  0.01978461,  0.00878036,\n",
              "         0.00145506,  0.01148306, -0.005627  , -0.0130773 , -0.00364854],\n",
              "       [-0.00261523,  0.00424853, -0.00227577,  0.0236958 ,  0.01184708,\n",
              "        -0.00236321,  0.02446533,  0.00204978, -0.00103972, -0.00385612],\n",
              "       [ 0.032973  ,  0.01859976,  0.0035758 ,  0.0069081 ,  0.00761674,\n",
              "        -0.00697827, -0.0112101 , -0.00180466, -0.02073616,  0.01218386],\n",
              "       [-0.02763563, -0.01061732,  0.0007771 , -0.01857746, -0.01209558,\n",
              "         0.02224461,  0.00321715,  0.00488243, -0.00148315, -0.01218848],\n",
              "       [-0.01895148, -0.00480462, -0.00724613, -0.02728259, -0.01647825,\n",
              "         0.00127699, -0.029727  , -0.00408955, -0.01080866,  0.02590004],\n",
              "       [-0.00979524,  0.01303313, -0.00603292, -0.01418934,  0.023735  ,\n",
              "        -0.00240588,  0.00939171, -0.00231475, -0.03419039,  0.00880968],\n",
              "       [-0.013013  ,  0.01699816, -0.01976314,  0.01454479,  0.01577191,\n",
              "         0.02566642, -0.03318036,  0.02793288, -0.03028855,  0.01318964],\n",
              "       [ 0.02740508,  0.01998663, -0.00337412,  0.0085386 , -0.02439561,\n",
              "        -0.01201405,  0.00575076,  0.00314926, -0.00707525,  0.00872171],\n",
              "       [ 0.00104189,  0.01247097,  0.03406876,  0.00478015, -0.02215288,\n",
              "         0.01165398, -0.00829301,  0.00749769,  0.00172518, -0.01713193]],\n",
              "      dtype=float32)"
            ]
          },
          "metadata": {},
          "execution_count": 14
        }
      ]
    },
    {
      "cell_type": "code",
      "source": [
        "tsne = TSNE(n_components=2, perplexity=min(5, len(vector_fasttext)-1), random_state=42)\n",
        "vectors_tsne = tsne.fit_transform(vector_fasttext)"
      ],
      "metadata": {
        "id": "H1NmjtrWxxK2"
      },
      "execution_count": 15,
      "outputs": []
    },
    {
      "cell_type": "code",
      "source": [
        "plt.scatter(vectors_tsne[:, 0], vectors_tsne[:, 1])\n",
        "for i, word in enumerate(words):\n",
        "    plt.annotate(word, xy=(vectors_tsne[i, 0], vectors_tsne[i, 1]), xytext=(5, 2), textcoords='offset points', ha='right')\n",
        "\n",
        "plt.show()"
      ],
      "metadata": {
        "colab": {
          "base_uri": "https://localhost:8080/",
          "height": 430
        },
        "id": "0jWH4PaUxuiR",
        "outputId": "0eb61093-43ea-4c7f-ebc7-6610bacd0ded"
      },
      "execution_count": 16,
      "outputs": [
        {
          "output_type": "display_data",
          "data": {
            "text/plain": [
              "<Figure size 640x480 with 1 Axes>"
            ],
            "image/png": "[encoded data removed]"
          },
          "metadata": {}
        }
      ]
    },
    {
      "cell_type": "markdown",
      "source": [
        "### Perbandingan hasil Word2Vec dan Fasttext"
      ],
      "metadata": {
        "id": "J9peWPBoi0MM"
      }
    },
    {
      "cell_type": "code",
      "source": [
        "# representasi kata makan\n",
        "word_w2v = model_w2v.wv['tidur']\n",
        "word_fasttext = model_fasttext.wv['tidur']\n",
        "\n",
        "print(\"Word2Vec:\", word_w2v)\n",
        "print(\"FastText:\", word_fasttext)"
      ],
      "metadata": {
        "colab": {
          "base_uri": "https://localhost:8080/"
        },
        "id": "r9oEbgzRiflU",
        "outputId": "61d06a9a-995b-40c8-9d4a-9e28580f38bd"
      },
      "execution_count": 17,
      "outputs": [
        {
          "output_type": "stream",
          "name": "stdout",
          "text": [
            "Word2Vec: [ 0.07380505 -0.01533471 -0.04536613  0.06554051 -0.0486016  -0.01816018\n",
            "  0.0287658   0.00991874 -0.08285215 -0.09448818]\n",
            "FastText: [-0.00261523  0.00424853 -0.00227577  0.0236958   0.01184708 -0.00236321\n",
            "  0.02446533  0.00204978 -0.00103972 -0.00385612]\n"
          ]
        }
      ]
    },
    {
      "cell_type": "markdown",
      "source": [
        "### Mencari kata yang similar"
      ],
      "metadata": {
        "id": "yiobRn3xjV9f"
      }
    },
    {
      "cell_type": "code",
      "source": [
        "# Gunakan model Word2Vec atau FastText yang telah dilatih\n",
        "similar_words_w2v = model_w2v.wv.most_similar('makan', topn=4)\n",
        "similar_words_fasttext = model_fasttext.wv.most_similar('makan', topn=4)\n",
        "\n",
        "print(f\"Word2Vec - Kata serupa dengan 'makan':{similar_words_w2v}\")\n",
        "print(f\"FastText - Kata serupa dengan 'makan':{similar_words_fasttext}\")"
      ],
      "metadata": {
        "colab": {
          "base_uri": "https://localhost:8080/"
        },
        "id": "edpMY1IQjBuM",
        "outputId": "b9ddbfe0-6c5f-4d8c-bd2f-bc770009f0bb"
      },
      "execution_count": 18,
      "outputs": [
        {
          "output_type": "stream",
          "name": "stdout",
          "text": [
            "Word2Vec - Kata serupa dengan 'makan':[('mereka', 0.42731544375419617), ('air', 0.2941223382949829), ('tidur', 0.23243053257465363), ('nasi', 0.19734424352645874)]\n",
            "FastText - Kata serupa dengan 'makan':[('mereka', 0.6308949589729309), ('saya', 0.18492391705513), ('tidur', 0.04897456616163254), ('nyenyak', -0.04348469898104668)]\n"
          ]
        }
      ]
    },
    {
      "cell_type": "markdown",
      "source": [
        "### Melihat struktur model"
      ],
      "metadata": {
        "id": "B-AUv144jkld"
      }
    },
    {
      "cell_type": "code",
      "source": [
        "# Unduh model Word2Vec pre-trained\n",
        "# Code for downloading pre-trained model depends on the source (e.g., Gensim's KeyedVectors or other sources)\n",
        "\n",
        "# Inspeksi model\n",
        "print(f\"Ukuran vektor: {model_w2v.vector_size}\")\n",
        "print(f\"Jumlah kata:{len(model_w2v.wv)}\")\n",
        "print(f\"Parameter W2V: {model_w2v}\")"
      ],
      "metadata": {
        "colab": {
          "base_uri": "https://localhost:8080/"
        },
        "id": "wZ89eEGIjeAH",
        "outputId": "b0548b46-471e-4378-ba08-340090074bda"
      },
      "execution_count": 19,
      "outputs": [
        {
          "output_type": "stream",
          "name": "stdout",
          "text": [
            "Ukuran vektor: 10\n",
            "Jumlah kata:9\n",
            "Parameter W2V: Word2Vec<vocab=9, vector_size=10, alpha=0.025>\n"
          ]
        }
      ]
    },
    {
      "cell_type": "code",
      "source": [
        "# Unduh model Word2Vec pre-trained\n",
        "# Code for downloading pre-trained model depends on the source (e.g., Gensim's KeyedVectors or other sources)\n",
        "\n",
        "# Inspeksi model\n",
        "print(\"Ukuran vektor:\", model_fasttext.vector_size)\n",
        "print(\"Jumlah kata:\", len(model_fasttext.wv))\n",
        "print(\"Parameter W2V:\", model_fasttext)"
      ],
      "metadata": {
        "colab": {
          "base_uri": "https://localhost:8080/"
        },
        "id": "oyyK4WV_jn8E",
        "outputId": "b9c3d71b-6ee5-4afa-821e-cd0f15f8e5d7"
      },
      "execution_count": 20,
      "outputs": [
        {
          "output_type": "stream",
          "name": "stdout",
          "text": [
            "Ukuran vektor: 10\n",
            "Jumlah kata: 9\n",
            "Parameter W2V: FastText<vocab=9, vector_size=10, alpha=0.025>\n"
          ]
        }
      ]
    },
    {
      "cell_type": "markdown",
      "source": [
        "### Latihan"
      ],
      "metadata": {
        "id": "Jau4AAabj0_F"
      }
    },
    {
      "cell_type": "code",
      "source": [
        "import pandas as pd\n",
        "\n",
        "df = pd.read_csv('pantun.csv')"
      ],
      "metadata": {
        "id": "K2TcnACljwys"
      },
      "execution_count": 21,
      "outputs": []
    },
    {
      "cell_type": "code",
      "source": [
        "df.head()"
      ],
      "metadata": {
        "colab": {
          "base_uri": "https://localhost:8080/",
          "height": 206
        },
        "id": "VQaWGnlVk5-r",
        "outputId": "cf3d611b-921f-44aa-a6d0-228401a06786"
      },
      "execution_count": 22,
      "outputs": [
        {
          "output_type": "execute_result",
          "data": {
            "text/plain": [
              "                                                teks                  tipe\n",
              "0  Ada motor ada sepeda \\n Semuanya beroda dua \\n...  Pantun Adat dan Alam\n",
              "1  Ada pisang ada semangka \\n Jika dimakan manis ...  Pantun Adat dan Alam\n",
              "2  Ada rusa ada buaya \\n Sungguh hitam warna mata...  Pantun Adat dan Alam\n",
              "3  Alat timbang pucuknya patah \\n Beli baru henda...  Pantun Adat dan Alam\n",
              "4  Anak cina makan petai \\n Kakinya terikat ranta...  Pantun Adat dan Alam"
            ],
            "text/html": [
              "\n",
              "  <div id=\"df-328ec1b8-9d52-4813-bfdd-8d1adc8ec877\" class=\"colab-df-container\">\n",
              "    <div>\n",
              "<style scoped>\n",
              "    .dataframe tbody tr th:only-of-type {\n",
              "        vertical-align: middle;\n",
              "    }\n",
              "\n",
              "    .dataframe tbody tr th {\n",
              "        vertical-align: top;\n",
              "    }\n",
              "\n",
              "    .dataframe thead th {\n",
              "        text-align: right;\n",
              "    }\n",
              "</style>\n",
              "<table border=\"1\" class=\"dataframe\">\n",
              "  <thead>\n",
              "    <tr style=\"text-align: right;\">\n",
              "      <th></th>\n",
              "      <th>teks</th>\n",
              "      <th>tipe</th>\n",
              "    </tr>\n",
              "  </thead>\n",
              "  <tbody>\n",
              "    <tr>\n",
              "      <th>0</th>\n",
              "      <td>Ada motor ada sepeda \\n Semuanya beroda dua \\n...</td>\n",
              "      <td>Pantun Adat dan Alam</td>\n",
              "    </tr>\n",
              "    <tr>\n",
              "      <th>1</th>\n",
              "      <td>Ada pisang ada semangka \\n Jika dimakan manis ...</td>\n",
              "      <td>Pantun Adat dan Alam</td>\n",
              "    </tr>\n",
              "    <tr>\n",
              "      <th>2</th>\n",
              "      <td>Ada rusa ada buaya \\n Sungguh hitam warna mata...</td>\n",
              "      <td>Pantun Adat dan Alam</td>\n",
              "    </tr>\n",
              "    <tr>\n",
              "      <th>3</th>\n",
              "      <td>Alat timbang pucuknya patah \\n Beli baru henda...</td>\n",
              "      <td>Pantun Adat dan Alam</td>\n",
              "    </tr>\n",
              "    <tr>\n",
              "      <th>4</th>\n",
              "      <td>Anak cina makan petai \\n Kakinya terikat ranta...</td>\n",
              "      <td>Pantun Adat dan Alam</td>\n",
              "    </tr>\n",
              "  </tbody>\n",
              "</table>\n",
              "</div>\n",
              "    <div class=\"colab-df-buttons\">\n",
              "\n",
              "  <div class=\"colab-df-container\">\n",
              "    <button class=\"colab-df-convert\" onclick=\"convertToInteractive('df-328ec1b8-9d52-4813-bfdd-8d1adc8ec877')\"\n",
              "            title=\"Convert this dataframe to an interactive table.\"\n",
              "            style=\"display:none;\">\n",
              "\n",
              "  <svg xmlns=\"http://www.w3.org/2000/svg\" height=\"24px\" viewBox=\"0 -960 960 960\">\n",
              "    <path d=\"M120-120v-720h720v720H120Zm60-500h600v-160H180v160Zm220 220h160v-160H400v160Zm0 220h160v-160H400v160ZM180-400h160v-160H180v160Zm440 0h160v-160H620v160ZM180-180h160v-160H180v160Zm440 0h160v-160H620v160Z\"/>\n",
              "  </svg>\n",
              "    </button>\n",
              "\n",
              "  <style>\n",
              "    .colab-df-container {\n",
              "      display:flex;\n",
              "      gap: 12px;\n",
              "    }\n",
              "\n",
              "    .colab-df-convert {\n",
              "      background-color: #E8F0FE;\n",
              "      border: none;\n",
              "      border-radius: 50%;\n",
              "      cursor: pointer;\n",
              "      display: none;\n",
              "      fill: #1967D2;\n",
              "      height: 32px;\n",
              "      padding: 0 0 0 0;\n",
              "      width: 32px;\n",
              "    }\n",
              "\n",
              "    .colab-df-convert:hover {\n",
              "      background-color: #E2EBFA;\n",
              "      box-shadow: 0px 1px 2px rgba(60, 64, 67, 0.3), 0px 1px 3px 1px rgba(60, 64, 67, 0.15);\n",
              "      fill: #174EA6;\n",
              "    }\n",
              "\n",
              "    .colab-df-buttons div {\n",
              "      margin-bottom: 4px;\n",
              "    }\n",
              "\n",
              "    [theme=dark] .colab-df-convert {\n",
              "      background-color: #3B4455;\n",
              "      fill: #D2E3FC;\n",
              "    }\n",
              "\n",
              "    [theme=dark] .colab-df-convert:hover {\n",
              "      background-color: #434B5C;\n",
              "      box-shadow: 0px 1px 3px 1px rgba(0, 0, 0, 0.15);\n",
              "      filter: drop-shadow(0px 1px 2px rgba(0, 0, 0, 0.3));\n",
              "      fill: #FFFFFF;\n",
              "    }\n",
              "  </style>\n",
              "\n",
              "    <script>\n",
              "      const buttonEl =\n",
              "        document.querySelector('#df-328ec1b8-9d52-4813-bfdd-8d1adc8ec877 button.colab-df-convert');\n",
              "      buttonEl.style.display =\n",
              "        google.colab.kernel.accessAllowed ? 'block' : 'none';\n",
              "\n",
              "      async function convertToInteractive(key) {\n",
              "        const element = document.querySelector('#df-328ec1b8-9d52-4813-bfdd-8d1adc8ec877');\n",
              "        const dataTable =\n",
              "          await google.colab.kernel.invokeFunction('convertToInteractive',\n",
              "                                                    [key], {});\n",
              "        if (!dataTable) return;\n",
              "\n",
              "        const docLinkHtml = 'Like what you see? Visit the ' +\n",
              "          '<a target=\"_blank\" href=https://colab.research.google.com/notebooks/data_table.ipynb>data table notebook</a>'\n",
              "          + ' to learn more about interactive tables.';\n",
              "        element.innerHTML = '';\n",
              "        dataTable['output_type'] = 'display_data';\n",
              "        await google.colab.output.renderOutput(dataTable, element);\n",
              "        const docLink = document.createElement('div');\n",
              "        docLink.innerHTML = docLinkHtml;\n",
              "        element.appendChild(docLink);\n",
              "      }\n",
              "    </script>\n",
              "  </div>\n",
              "\n",
              "\n",
              "<div id=\"df-5027cab2-34e0-433a-a77a-7453d55078ce\">\n",
              "  <button class=\"colab-df-quickchart\" onclick=\"quickchart('df-5027cab2-34e0-433a-a77a-7453d55078ce')\"\n",
              "            title=\"Suggest charts\"\n",
              "            style=\"display:none;\">\n",
              "\n",
              "<svg xmlns=\"http://www.w3.org/2000/svg\" height=\"24px\"viewBox=\"0 0 24 24\"\n",
              "     width=\"24px\">\n",
              "    <g>\n",
              "        <path d=\"M19 3H5c-1.1 0-2 .9-2 2v14c0 1.1.9 2 2 2h14c1.1 0 2-.9 2-2V5c0-1.1-.9-2-2-2zM9 17H7v-7h2v7zm4 0h-2V7h2v10zm4 0h-2v-4h2v4z\"/>\n",
              "    </g>\n",
              "</svg>\n",
              "  </button>\n",
              "\n",
              "<style>\n",
              "  .colab-df-quickchart {\n",
              "      --bg-color: #E8F0FE;\n",
              "      --fill-color: #1967D2;\n",
              "      --hover-bg-color: #E2EBFA;\n",
              "      --hover-fill-color: #174EA6;\n",
              "      --disabled-fill-color: #AAA;\n",
              "      --disabled-bg-color: #DDD;\n",
              "  }\n",
              "\n",
              "  [theme=dark] .colab-df-quickchart {\n",
              "      --bg-color: #3B4455;\n",
              "      --fill-color: #D2E3FC;\n",
              "      --hover-bg-color: #434B5C;\n",
              "      --hover-fill-color: #FFFFFF;\n",
              "      --disabled-bg-color: #3B4455;\n",
              "      --disabled-fill-color: #666;\n",
              "  }\n",
              "\n",
              "  .colab-df-quickchart {\n",
              "    background-color: var(--bg-color);\n",
              "    border: none;\n",
              "    border-radius: 50%;\n",
              "    cursor: pointer;\n",
              "    display: none;\n",
              "    fill: var(--fill-color);\n",
              "    height: 32px;\n",
              "    padding: 0;\n",
              "    width: 32px;\n",
              "  }\n",
              "\n",
              "  .colab-df-quickchart:hover {\n",
              "    background-color: var(--hover-bg-color);\n",
              "    box-shadow: 0 1px 2px rgba(60, 64, 67, 0.3), 0 1px 3px 1px rgba(60, 64, 67, 0.15);\n",
              "    fill: var(--button-hover-fill-color);\n",
              "  }\n",
              "\n",
              "  .colab-df-quickchart-complete:disabled,\n",
              "  .colab-df-quickchart-complete:disabled:hover {\n",
              "    background-color: var(--disabled-bg-color);\n",
              "    fill: var(--disabled-fill-color);\n",
              "    box-shadow: none;\n",
              "  }\n",
              "\n",
              "  .colab-df-spinner {\n",
              "    border: 2px solid var(--fill-color);\n",
              "    border-color: transparent;\n",
              "    border-bottom-color: var(--fill-color);\n",
              "    animation:\n",
              "      spin 1s steps(1) infinite;\n",
              "  }\n",
              "\n",
              "  @keyframes spin {\n",
              "    0% {\n",
              "      border-color: transparent;\n",
              "      border-bottom-color: var(--fill-color);\n",
              "      border-left-color: var(--fill-color);\n",
              "    }\n",
              "    20% {\n",
              "      border-color: transparent;\n",
              "      border-left-color: var(--fill-color);\n",
              "      border-top-color: var(--fill-color);\n",
              "    }\n",
              "    30% {\n",
              "      border-color: transparent;\n",
              "      border-left-color: var(--fill-color);\n",
              "      border-top-color: var(--fill-color);\n",
              "      border-right-color: var(--fill-color);\n",
              "    }\n",
              "    40% {\n",
              "      border-color: transparent;\n",
              "      border-right-color: var(--fill-color);\n",
              "      border-top-color: var(--fill-color);\n",
              "    }\n",
              "    60% {\n",
              "      border-color: transparent;\n",
              "      border-right-color: var(--fill-color);\n",
              "    }\n",
              "    80% {\n",
              "      border-color: transparent;\n",
              "      border-right-color: var(--fill-color);\n",
              "      border-bottom-color: var(--fill-color);\n",
              "    }\n",
              "    90% {\n",
              "      border-color: transparent;\n",
              "      border-bottom-color: var(--fill-color);\n",
              "    }\n",
              "  }\n",
              "</style>\n",
              "\n",
              "  <script>\n",
              "    async function quickchart(key) {\n",
              "      const quickchartButtonEl =\n",
              "        document.querySelector('#' + key + ' button');\n",
              "      quickchartButtonEl.disabled = true;  // To prevent multiple clicks.\n",
              "      quickchartButtonEl.classList.add('colab-df-spinner');\n",
              "      try {\n",
              "        const charts = await google.colab.kernel.invokeFunction(\n",
              "            'suggestCharts', [key], {});\n",
              "      } catch (error) {\n",
              "        console.error('Error during call to suggestCharts:', error);\n",
              "      }\n",
              "      quickchartButtonEl.classList.remove('colab-df-spinner');\n",
              "      quickchartButtonEl.classList.add('colab-df-quickchart-complete');\n",
              "    }\n",
              "    (() => {\n",
              "      let quickchartButtonEl =\n",
              "        document.querySelector('#df-5027cab2-34e0-433a-a77a-7453d55078ce button');\n",
              "      quickchartButtonEl.style.display =\n",
              "        google.colab.kernel.accessAllowed ? 'block' : 'none';\n",
              "    })();\n",
              "  </script>\n",
              "</div>\n",
              "    </div>\n",
              "  </div>\n"
            ]
          },
          "metadata": {},
          "execution_count": 22
        }
      ]
    },
    {
      "cell_type": "code",
      "source": [
        "def clear(text):\n",
        "  import re\n",
        "  teks_bersih = re.sub(r'\\\\n', '.', text)\n",
        "  return teks_bersih"
      ],
      "metadata": {
        "id": "FaQ9S4IUkdp8"
      },
      "execution_count": 23,
      "outputs": []
    },
    {
      "cell_type": "code",
      "source": [
        "teks = df['teks'].values.tolist()"
      ],
      "metadata": {
        "id": "REM3zlQUlABb"
      },
      "execution_count": 24,
      "outputs": []
    },
    {
      "cell_type": "code",
      "source": [
        "teks = ''.join(teks)"
      ],
      "metadata": {
        "id": "8fCs3EFKlR70"
      },
      "execution_count": 25,
      "outputs": []
    },
    {
      "cell_type": "code",
      "source": [
        "teks = clear(teks)"
      ],
      "metadata": {
        "id": "lpzJS_T_kz8b"
      },
      "execution_count": 26,
      "outputs": []
    },
    {
      "cell_type": "code",
      "source": [
        "import nltk\n",
        "from nltk.tokenize import word_tokenize, sent_tokenize\n",
        "nltk.download('punkt')\n",
        "\n",
        "teks = sent_tokenize(teks)"
      ],
      "metadata": {
        "colab": {
          "base_uri": "https://localhost:8080/"
        },
        "id": "61_aZEnYk8Fz",
        "outputId": "85156bd9-7023-47da-d6ed-1031c6eb9384"
      },
      "execution_count": 27,
      "outputs": [
        {
          "output_type": "stream",
          "name": "stderr",
          "text": [
            "[nltk_data] Downloading package punkt to /root/nltk_data...\n",
            "[nltk_data]   Unzipping tokenizers/punkt.zip.\n"
          ]
        }
      ]
    },
    {
      "cell_type": "code",
      "source": [
        "teks = teks[:10]"
      ],
      "metadata": {
        "id": "mW4Neyc6l7sc"
      },
      "execution_count": 28,
      "outputs": []
    },
    {
      "cell_type": "code",
      "source": [
        "teks"
      ],
      "metadata": {
        "id": "8-D7w3Ez0GMf",
        "outputId": "90e90a50-66d3-4997-b1c8-8a904b395db1",
        "colab": {
          "base_uri": "https://localhost:8080/"
        }
      },
      "execution_count": 29,
      "outputs": [
        {
          "output_type": "execute_result",
          "data": {
            "text/plain": [
              "['Ada motor ada sepeda .',\n",
              " 'Semuanya beroda dua .',\n",
              " 'Indonesia kaya budaya .',\n",
              " 'Sepatutnya kita menjaganyaAda pisang ada semangka .',\n",
              " 'Jika dimakan manis rasanya .',\n",
              " 'Indonesia ragam budaya .',\n",
              " 'Tugas kita tuk menjaganyaAda rusa ada buaya .',\n",
              " 'Sungguh hitam warna matanya .',\n",
              " 'Ada adat seribu bahasa .',\n",
              " 'Kita wajib menghormatinyaAlat timbang pucuknya patah .']"
            ]
          },
          "metadata": {},
          "execution_count": 29
        }
      ]
    },
    {
      "cell_type": "code",
      "source": [
        "teks_token = [word_tokenize(sentence.lower()) for sentence in teks]\n",
        "teks_token"
      ],
      "metadata": {
        "colab": {
          "base_uri": "https://localhost:8080/"
        },
        "id": "N7l7dIsx-XCW",
        "outputId": "2879f751-0e79-44f6-cc99-855a5f67d5ad"
      },
      "execution_count": 30,
      "outputs": [
        {
          "output_type": "execute_result",
          "data": {
            "text/plain": [
              "[['ada', 'motor', 'ada', 'sepeda', '.'],\n",
              " ['semuanya', 'beroda', 'dua', '.'],\n",
              " ['indonesia', 'kaya', 'budaya', '.'],\n",
              " ['sepatutnya', 'kita', 'menjaganyaada', 'pisang', 'ada', 'semangka', '.'],\n",
              " ['jika', 'dimakan', 'manis', 'rasanya', '.'],\n",
              " ['indonesia', 'ragam', 'budaya', '.'],\n",
              " ['tugas', 'kita', 'tuk', 'menjaganyaada', 'rusa', 'ada', 'buaya', '.'],\n",
              " ['sungguh', 'hitam', 'warna', 'matanya', '.'],\n",
              " ['ada', 'adat', 'seribu', 'bahasa', '.'],\n",
              " ['kita', 'wajib', 'menghormatinyaalat', 'timbang', 'pucuknya', 'patah', '.']]"
            ]
          },
          "metadata": {},
          "execution_count": 30
        }
      ]
    },
    {
      "cell_type": "markdown",
      "source": [
        "### Ubah variabel teks(diatas), menjadi vektor word2vec dan fastext, serta tampilkan 4 kata yang similar"
      ],
      "metadata": {
        "id": "dlGooj2Azvw4"
      }
    },
    {
      "cell_type": "code",
      "source": [
        "model_w2v = Word2Vec(sentences=teks_token, vector_size=10, window=5, min_count=1, workers=4)"
      ],
      "metadata": {
        "id": "u_cwZdeFmRr0"
      },
      "execution_count": 31,
      "outputs": []
    },
    {
      "cell_type": "code",
      "source": [
        "words = list(model_w2v.wv.index_to_key)\n",
        "vector_W2V = [model_w2v.wv[word] for word in words]\n",
        "vector_W2V = np.array(vector_W2V)\n",
        "\n",
        "tsne = TSNE(n_components=2, perplexity=min(5, len(vector_W2V)-1), random_state=42)\n",
        "vectors_tsne = tsne.fit_transform(vector_W2V)\n",
        "\n",
        "plt.scatter(vectors_tsne[:, 0], vectors_tsne[:, 1])\n",
        "for i, word in enumerate(words):\n",
        "    plt.annotate(word, xy=(vectors_tsne[i, 0], vectors_tsne[i, 1]), xytext=(5, 2), textcoords='offset points', ha='right')\n",
        "\n",
        "plt.show()"
      ],
      "metadata": {
        "colab": {
          "base_uri": "https://localhost:8080/",
          "height": 430
        },
        "id": "r09z64_B-d-A",
        "outputId": "4ae8512a-17ef-4af8-9702-2d32d16df183"
      },
      "execution_count": 32,
      "outputs": [
        {
          "output_type": "display_data",
          "data": {
            "text/plain": [
              "<Figure size 640x480 with 1 Axes>"
            ],
            "image/png": "[encoded data removed]"
          },
          "metadata": {}
        }
      ]
    },
    {
      "cell_type": "code",
      "source": [
        "model_fasttext = FastText(sentences=teks_token, vector_size=10, window=5, min_count=1, workers=4)"
      ],
      "metadata": {
        "id": "b9hD2c-H-kNP"
      },
      "execution_count": 33,
      "outputs": []
    },
    {
      "cell_type": "code",
      "source": [
        "words = list(model_fasttext.wv.index_to_key)\n",
        "vector_W2V = [model_fasttext.wv[word] for word in words]\n",
        "vector_W2V = np.array(vector_W2V)\n",
        "\n",
        "tsne = TSNE(n_components=2, perplexity=min(5, len(vector_W2V)-1), random_state=42)\n",
        "vectors_tsne = tsne.fit_transform(vector_W2V)\n",
        "\n",
        "plt.scatter(vectors_tsne[:, 0], vectors_tsne[:, 1])\n",
        "for i, word in enumerate(words):\n",
        "    plt.annotate(word, xy=(vectors_tsne[i, 0], vectors_tsne[i, 1]), xytext=(5, 2), textcoords='offset points', ha='right')\n",
        "\n",
        "plt.show()"
      ],
      "metadata": {
        "colab": {
          "base_uri": "https://localhost:8080/",
          "height": 435
        },
        "id": "768wv-nj-rB2",
        "outputId": "958769fe-6987-4ae7-a3a9-666be8aaa131"
      },
      "execution_count": 34,
      "outputs": [
        {
          "output_type": "display_data",
          "data": {
            "text/plain": [
              "<Figure size 640x480 with 1 Axes>"
            ],
            "image/png": "[encoded data removed]"
          },
          "metadata": {}
        }
      ]
    },
    {
      "cell_type": "code",
      "source": [
        "# Gunakan model Word2Vec atau FastText yang telah dilatih\n",
        "similar_words_w2v = model_w2v.wv.most_similar('indonesia', topn=4)\n",
        "similar_words_fasttext = model_fasttext.wv.most_similar('manis', topn=4)\n",
        "\n",
        "print(f\"Word2Vec - Kata serupa dengan 'Indonesia':{similar_words_w2v}\")\n",
        "print(f\"FastText - Kata serupa dengan 'manis':{similar_words_fasttext}\")"
      ],
      "metadata": {
        "colab": {
          "base_uri": "https://localhost:8080/"
        },
        "id": "JndRGj9h-vnf",
        "outputId": "f61e0271-0ca5-4e93-e9f8-934d201ba088"
      },
      "execution_count": 38,
      "outputs": [
        {
          "output_type": "stream",
          "name": "stdout",
          "text": [
            "Word2Vec - Kata serupa dengan 'Indonesia':[('motor', 0.5913802981376648), ('menghormatinyaalat', 0.5115896463394165), ('tuk', 0.5002295970916748), ('bahasa', 0.4622492790222168)]\n",
            "FastText - Kata serupa dengan 'manis':[('semangka', 0.6411186456680298), ('kita', 0.43431928753852844), ('menghormatinyaalat', 0.4182778596878052), ('.', 0.41521984338760376)]\n"
          ]
        }
      ]
    },
    {
      "cell_type": "markdown",
      "source": [
        "**Interpretasi Hasil :**\n",
        "\n",
        "**Word2Vec - Kata serupa dengan 'Indonesia'(4 kata teratas yang similar dengan kata 'Indonesia') :**\n",
        "\n",
        "Motor (0.591): Kata \"motor\" memiliki tingkat kemiripan sekitar 59.1%. Menghormatinyaalat (0.512): Kata yang agak unik ini memiliki tingkat kemiripan sekitar 51.2%. Tuk (0.500): Kata \"tuk\" memiliki tingkat kemiripan sekitar 50.0%. Bahasa (0.462): Kata \"bahasa\" memiliki tingkat kemiripan sekitar 46.2%. Artinya bahwa ada hubungan semantik tertentu atau penggunaan bersama antara kata \"Indonesia\" dan keempat kata tersebut dalam beberapa konteks.\n",
        "\n",
        "**FastText - Kata serupa dengan 'manis' (4 kata teratas yang similar dengan kata 'manis') :**\n",
        "\n",
        "Semangka (0.641): Kata \"semangka\" memiliki tingkat kemiripan sekitar 64.1%. Kita (0.434): Kata \"kita\" memiliki tingkat kemiripan sekitar 43.4%. Menghormatinyaalat (0.418): Kata yang sama dengan hasil Word2Vec, \"menghormatinyaalat,\" memiliki tingkat kemiripan sekitar 41.8%. Tanda titik (.) memiliki tingkat kemiripan sekitar 41.5%. Artinya bahwa ada hubungan semantik tertentu atau penggunaan bersama antara kata \"manis\" dan keempat kata tersebut dalam beberapa konteks."
      ],
      "metadata": {
        "id": "eW8mqsDbAQi-"
      }
    }
  ]
}